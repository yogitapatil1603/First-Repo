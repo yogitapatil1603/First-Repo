{
 "cells": [
  {
   "cell_type": "code",
   "execution_count": null,
   "id": "27ff5796",
   "metadata": {},
   "outputs": [
    {
     "name": "stdout",
     "output_type": "stream",
     "text": [
      "Hello Me\n"
     ]
    }
   ],
   "source": [
    "print(\"Hello Me\")\n",
    "\n",
    "print(\"Hello Me 2\")\n"
   ]
  },
  {
   "cell_type": "code",
   "execution_count": null,
   "id": "f7f9ad45",
   "metadata": {},
   "outputs": [],
   "source": [
    "import numpy as np\n",
    "import matplotlib\n",
    "import pandas as pd\n",
    "import os"
   ]
  },
  {
   "cell_type": "markdown",
   "id": "b2bb7a73",
   "metadata": {},
   "source": [
    "IMPORT THE DATASET"
   ]
  },
  {
   "cell_type": "code",
   "execution_count": 3,
   "id": "c8436a5d",
   "metadata": {},
   "outputs": [
    {
     "name": "stdout",
     "output_type": "stream",
     "text": [
      "[['Alice Smith' 28 52000 3]\n",
      " ['Bob Johnson' 34 67000 8]\n",
      " ['Carol Lee' 26 48000 2]\n",
      " ['David Patel' 45 90000 20]\n",
      " ['Eva Martinez' 31 60000 6]\n",
      " ['Frank Watts' 39 75000 12]\n",
      " ['Grace Lin' 27 51000 4]\n",
      " ['Henry Zhou' 38 82000 15]\n",
      " ['Isha Gupta' 41 71000 17]\n",
      " ['Jake Morgan' 30 58000 5]\n",
      " ['Kiran Rao' 29 54000 7]\n",
      " ['Liam Brown' 36 78000 11]\n",
      " ['Mina Kim' 33 65000 10]\n",
      " ['Nina Lopez' 24 43000 1]\n",
      " ['Omar Hassan' 42 91000 19]]\n",
      "['Finance' 'Technology' 'Healthcare' 'Education' 'Retail' 'Technology'\n",
      " 'Healthcare' 'Finance' 'Education' 'Retail' 'Technology' 'Finance'\n",
      " 'Healthcare' 'Retail' 'Education']\n"
     ]
    }
   ],
   "source": [
    "dataset = pd.read_csv(\"employee.csv\")\n",
    "x = dataset.iloc[:, :-1].values ## iloc gives the index of rows and column\n",
    "y = dataset.iloc[: , -1].values\n",
    "\n",
    "print(x)\n",
    "print(y)"
   ]
  },
  {
   "cell_type": "code",
   "execution_count": 2,
   "id": "a35c36b7",
   "metadata": {},
   "outputs": [
    {
     "ename": "ModuleNotFoundError",
     "evalue": "No module named 'sklearn'",
     "output_type": "error",
     "traceback": [
      "\u001b[31m---------------------------------------------------------------------------\u001b[39m",
      "\u001b[31mModuleNotFoundError\u001b[39m                       Traceback (most recent call last)",
      "\u001b[36mCell\u001b[39m\u001b[36m \u001b[39m\u001b[32mIn[2]\u001b[39m\u001b[32m, line 2\u001b[39m\n\u001b[32m      1\u001b[39m \u001b[38;5;28;01mimport\u001b[39;00m\u001b[38;5;250m \u001b[39m\u001b[34;01mpandas\u001b[39;00m\u001b[38;5;250m \u001b[39m\u001b[38;5;28;01mas\u001b[39;00m\u001b[38;5;250m \u001b[39m\u001b[34;01mpd\u001b[39;00m\n\u001b[32m----> \u001b[39m\u001b[32m2\u001b[39m \u001b[38;5;28;01mfrom\u001b[39;00m\u001b[38;5;250m \u001b[39m\u001b[34;01msklearn\u001b[39;00m\u001b[34;01m.\u001b[39;00m\u001b[34;01mimpute\u001b[39;00m\u001b[38;5;250m \u001b[39m\u001b[38;5;28;01mimport\u001b[39;00m SimpleImputer\n\u001b[32m      4\u001b[39m \u001b[38;5;66;03m# Read your CSV file\u001b[39;00m\n\u001b[32m      5\u001b[39m df = pd.read_csv(\u001b[33m\"\u001b[39m\u001b[33memployee.csv\u001b[39m\u001b[33m\"\u001b[39m)\n",
      "\u001b[31mModuleNotFoundError\u001b[39m: No module named 'sklearn'"
     ]
    }
   ],
   "source": [
    "import pandas as pd\n",
    "from sklearn.impute import SimpleImputer\n",
    "\n",
    "# Read your CSV file\n",
    "df = pd.read_csv(\"employee.csv\")\n",
    "\n",
    "print(\"Before handling missing data:\\n\", df.head())\n",
    "\n",
    "# Create an imputer (here we fill numeric columns with mean values)\n",
    "imputer = SimpleImputer(strategy='mean')\n",
    "\n",
    "# Apply imputer only on numeric columns\n",
    "numeric_cols = df.select_dtypes(include=['number']).columns\n",
    "df[numeric_cols] = imputer.fit_transform(df[numeric_cols])\n",
    "\n",
    "\n",
    "\n",
    "\n",
    "# Save the cleaned data back to a new CSV\n",
    "##df.to_csv(\"cleaned_file.csv\", index=False)\n"
   ]
  },
  {
   "cell_type": "code",
   "execution_count": 3,
   "id": "2ab715eb",
   "metadata": {},
   "outputs": [
    {
     "name": "stdout",
     "output_type": "stream",
     "text": [
      "Note: you may need to restart the kernel to use updated packages.\n"
     ]
    },
    {
     "name": "stderr",
     "output_type": "stream",
     "text": [
      "ERROR: Could not find a version that satisfies the requirement scikit (from versions: none)\n",
      "ERROR: No matching distribution found for scikit\n",
      "\n",
      "[notice] A new release of pip is available: 24.0 -> 25.2\n",
      "[notice] To update, run: C:\\Users\\yogit\\AppData\\Local\\Microsoft\\WindowsApps\\PythonSoftwareFoundation.Python.3.11_qbz5n2kfra8p0\\python.exe -m pip install --upgrade pip\n"
     ]
    }
   ],
   "source": [
    "pip install scikit\n"
   ]
  },
  {
   "cell_type": "code",
   "execution_count": 1,
   "id": "718bb321",
   "metadata": {},
   "outputs": [
    {
     "name": "stdout",
     "output_type": "stream",
     "text": [
      "Collecting scikit-learn\n",
      "  Downloading scikit_learn-1.7.2-cp311-cp311-win_amd64.whl.metadata (11 kB)\n",
      "Requirement already satisfied: numpy>=1.22.0 in c:\\users\\yogit\\appdata\\local\\packages\\pythonsoftwarefoundation.python.3.11_qbz5n2kfra8p0\\localcache\\local-packages\\python311\\site-packages (from scikit-learn) (1.26.4)\n",
      "Requirement already satisfied: scipy>=1.8.0 in c:\\users\\yogit\\appdata\\local\\packages\\pythonsoftwarefoundation.python.3.11_qbz5n2kfra8p0\\localcache\\local-packages\\python311\\site-packages (from scikit-learn) (1.16.2)\n",
      "Requirement already satisfied: joblib>=1.2.0 in c:\\users\\yogit\\appdata\\local\\packages\\pythonsoftwarefoundation.python.3.11_qbz5n2kfra8p0\\localcache\\local-packages\\python311\\site-packages (from scikit-learn) (1.5.2)\n",
      "Collecting threadpoolctl>=3.1.0 (from scikit-learn)\n",
      "  Downloading threadpoolctl-3.6.0-py3-none-any.whl.metadata (13 kB)\n",
      "Downloading scikit_learn-1.7.2-cp311-cp311-win_amd64.whl (8.9 MB)\n",
      "   ---------------------------------------- 0.0/8.9 MB ? eta -:--:--\n",
      "    --------------------------------------- 0.2/8.9 MB 3.6 MB/s eta 0:00:03\n",
      "   -- ------------------------------------- 0.5/8.9 MB 5.8 MB/s eta 0:00:02\n",
      "   --- ------------------------------------ 0.8/8.9 MB 5.7 MB/s eta 0:00:02\n",
      "   ----- ---------------------------------- 1.2/8.9 MB 6.4 MB/s eta 0:00:02\n",
      "   ------ --------------------------------- 1.6/8.9 MB 6.6 MB/s eta 0:00:02\n",
      "   --------- ------------------------------ 2.0/8.9 MB 6.7 MB/s eta 0:00:02\n",
      "   ---------- ----------------------------- 2.3/8.9 MB 7.1 MB/s eta 0:00:01\n",
      "   ------------ --------------------------- 2.7/8.9 MB 6.9 MB/s eta 0:00:01\n",
      "   ------------- -------------------------- 3.0/8.9 MB 6.8 MB/s eta 0:00:01\n",
      "   -------------- ------------------------- 3.3/8.9 MB 7.1 MB/s eta 0:00:01\n",
      "   ---------------- ----------------------- 3.6/8.9 MB 7.0 MB/s eta 0:00:01\n",
      "   ------------------ --------------------- 4.1/8.9 MB 7.0 MB/s eta 0:00:01\n",
      "   -------------------- ------------------- 4.5/8.9 MB 7.1 MB/s eta 0:00:01\n",
      "   --------------------- ------------------ 4.8/8.9 MB 7.1 MB/s eta 0:00:01\n",
      "   ----------------------- ---------------- 5.2/8.9 MB 7.0 MB/s eta 0:00:01\n",
      "   ------------------------ --------------- 5.5/8.9 MB 7.2 MB/s eta 0:00:01\n",
      "   -------------------------- ------------- 6.0/8.9 MB 7.2 MB/s eta 0:00:01\n",
      "   ---------------------------- ----------- 6.4/8.9 MB 7.3 MB/s eta 0:00:01\n",
      "   ------------------------------ --------- 6.8/8.9 MB 7.4 MB/s eta 0:00:01\n",
      "   -------------------------------- ------- 7.2/8.9 MB 7.4 MB/s eta 0:00:01\n",
      "   --------------------------------- ------ 7.5/8.9 MB 7.4 MB/s eta 0:00:01\n",
      "   ----------------------------------- ---- 7.9/8.9 MB 7.3 MB/s eta 0:00:01\n",
      "   ------------------------------------ --- 8.2/8.9 MB 7.4 MB/s eta 0:00:01\n",
      "   -------------------------------------- - 8.5/8.9 MB 7.4 MB/s eta 0:00:01\n",
      "   ---------------------------------------  8.8/8.9 MB 7.3 MB/s eta 0:00:01\n",
      "   ---------------------------------------  8.9/8.9 MB 7.3 MB/s eta 0:00:01\n",
      "   ---------------------------------------- 8.9/8.9 MB 7.1 MB/s eta 0:00:00\n",
      "Downloading threadpoolctl-3.6.0-py3-none-any.whl (18 kB)\n",
      "Installing collected packages: threadpoolctl, scikit-learn\n",
      "Successfully installed scikit-learn-1.7.2 threadpoolctl-3.6.0\n",
      "Note: you may need to restart the kernel to use updated packages.\n"
     ]
    },
    {
     "name": "stderr",
     "output_type": "stream",
     "text": [
      "\n",
      "[notice] A new release of pip is available: 24.0 -> 25.2\n",
      "[notice] To update, run: C:\\Users\\yogit\\AppData\\Local\\Microsoft\\WindowsApps\\PythonSoftwareFoundation.Python.3.11_qbz5n2kfra8p0\\python.exe -m pip install --upgrade pip\n"
     ]
    }
   ],
   "source": [
    "pip install scikit-learn\n"
   ]
  },
  {
   "cell_type": "code",
   "execution_count": 6,
   "id": "3e6b5344",
   "metadata": {},
   "outputs": [
    {
     "name": "stdout",
     "output_type": "stream",
     "text": [
      "Libraries installed successfully!\n"
     ]
    }
   ],
   "source": [
    "import pandas\n",
    "import sklearn\n",
    "print(\"Libraries installed successfully!\")\n"
   ]
  },
  {
   "cell_type": "code",
   "execution_count": null,
   "id": "468927c0",
   "metadata": {},
   "outputs": [],
   "source": []
  },
  {
   "cell_type": "code",
   "execution_count": null,
   "id": "f1430f6c",
   "metadata": {},
   "outputs": [],
   "source": []
  },
  {
   "cell_type": "code",
   "execution_count": null,
   "id": "30481a2f",
   "metadata": {},
   "outputs": [],
   "source": []
  },
  {
   "cell_type": "code",
   "execution_count": null,
   "id": "97ee9bfe",
   "metadata": {},
   "outputs": [],
   "source": []
  }
 ],
 "metadata": {
  "kernelspec": {
   "display_name": "Python 3",
   "language": "python",
   "name": "python3"
  },
  "language_info": {
   "codemirror_mode": {
    "name": "ipython",
    "version": 3
   },
   "file_extension": ".py",
   "mimetype": "text/x-python",
   "name": "python",
   "nbconvert_exporter": "python",
   "pygments_lexer": "ipython3",
   "version": "3.11.9"
  }
 },
 "nbformat": 4,
 "nbformat_minor": 5
}
